{
 "cells": [
  {
   "cell_type": "code",
   "execution_count": 26,
   "metadata": {},
   "outputs": [],
   "source": [
    "import pandas as pd\n",
    "import numpy as np"
   ]
  },
  {
   "cell_type": "code",
   "execution_count": 27,
   "metadata": {},
   "outputs": [],
   "source": [
    "import matplotlib.pyplot as plt\n",
    "import seaborn as sns\n",
    "%matplotlib inline"
   ]
  },
  {
   "cell_type": "code",
   "execution_count": 28,
   "metadata": {},
   "outputs": [
    {
     "data": {
      "text/html": [
       "<div>\n",
       "<style scoped>\n",
       "    .dataframe tbody tr th:only-of-type {\n",
       "        vertical-align: middle;\n",
       "    }\n",
       "\n",
       "    .dataframe tbody tr th {\n",
       "        vertical-align: top;\n",
       "    }\n",
       "\n",
       "    .dataframe thead th {\n",
       "        text-align: right;\n",
       "    }\n",
       "</style>\n",
       "<table border=\"1\" class=\"dataframe\">\n",
       "  <thead>\n",
       "    <tr style=\"text-align: right;\">\n",
       "      <th></th>\n",
       "      <th>Unnamed: 0</th>\n",
       "      <th>COVID-19 Data of INDIA</th>\n",
       "      <th>Unnamed: 2</th>\n",
       "      <th>Unnamed: 3</th>\n",
       "      <th>Unnamed: 4</th>\n",
       "      <th>Unnamed: 5</th>\n",
       "      <th>Unnamed: 6</th>\n",
       "    </tr>\n",
       "  </thead>\n",
       "  <tbody>\n",
       "    <tr>\n",
       "      <th>0</th>\n",
       "      <td>NaN</td>\n",
       "      <td>NaN</td>\n",
       "      <td>NaN</td>\n",
       "      <td>NaN</td>\n",
       "      <td>NaN</td>\n",
       "      <td>NaN</td>\n",
       "      <td>NaN</td>\n",
       "    </tr>\n",
       "    <tr>\n",
       "      <th>1</th>\n",
       "      <td>date</td>\n",
       "      <td>total_infected_cases</td>\n",
       "      <td>total_death_cases</td>\n",
       "      <td>total_recoverd_cases</td>\n",
       "      <td>total_active_cases</td>\n",
       "      <td>infected_cases_24hrs</td>\n",
       "      <td>death_current_24hrs</td>\n",
       "    </tr>\n",
       "    <tr>\n",
       "      <th>2</th>\n",
       "      <td>14/4/2020</td>\n",
       "      <td>10363</td>\n",
       "      <td>339</td>\n",
       "      <td>1036</td>\n",
       "      <td>8988</td>\n",
       "      <td>415</td>\n",
       "      <td>31</td>\n",
       "    </tr>\n",
       "    <tr>\n",
       "      <th>3</th>\n",
       "      <td>15/4/2020</td>\n",
       "      <td>10439</td>\n",
       "      <td>377</td>\n",
       "      <td>1305</td>\n",
       "      <td>9756</td>\n",
       "      <td>624</td>\n",
       "      <td>38</td>\n",
       "    </tr>\n",
       "    <tr>\n",
       "      <th>4</th>\n",
       "      <td>16/4/2020</td>\n",
       "      <td>12380</td>\n",
       "      <td>414</td>\n",
       "      <td>1488</td>\n",
       "      <td>10477</td>\n",
       "      <td>1320</td>\n",
       "      <td>37</td>\n",
       "    </tr>\n",
       "    <tr>\n",
       "      <th>...</th>\n",
       "      <td>...</td>\n",
       "      <td>...</td>\n",
       "      <td>...</td>\n",
       "      <td>...</td>\n",
       "      <td>...</td>\n",
       "      <td>...</td>\n",
       "      <td>...</td>\n",
       "    </tr>\n",
       "    <tr>\n",
       "      <th>135</th>\n",
       "      <td>2020-08-25 00:00:00</td>\n",
       "      <td>3167323</td>\n",
       "      <td>58390</td>\n",
       "      <td>2404585</td>\n",
       "      <td>704348</td>\n",
       "      <td>60975</td>\n",
       "      <td>848</td>\n",
       "    </tr>\n",
       "    <tr>\n",
       "      <th>136</th>\n",
       "      <td>2020-08-26 00:00:00</td>\n",
       "      <td>3234474</td>\n",
       "      <td>59449</td>\n",
       "      <td>2467758</td>\n",
       "      <td>707267</td>\n",
       "      <td>67151</td>\n",
       "      <td>1059</td>\n",
       "    </tr>\n",
       "    <tr>\n",
       "      <th>137</th>\n",
       "      <td>2020-08-27 00:00:00</td>\n",
       "      <td>3310234</td>\n",
       "      <td>60472</td>\n",
       "      <td>2523771</td>\n",
       "      <td>725991</td>\n",
       "      <td>75760</td>\n",
       "      <td>1023</td>\n",
       "    </tr>\n",
       "    <tr>\n",
       "      <th>138</th>\n",
       "      <td>2020-08-28 00:00:00</td>\n",
       "      <td>3387500</td>\n",
       "      <td>61529</td>\n",
       "      <td>2583948</td>\n",
       "      <td>742023</td>\n",
       "      <td>77266</td>\n",
       "      <td>1057</td>\n",
       "    </tr>\n",
       "    <tr>\n",
       "      <th>139</th>\n",
       "      <td>2020-08-29 00:00:00</td>\n",
       "      <td>NaN</td>\n",
       "      <td>NaN</td>\n",
       "      <td>NaN</td>\n",
       "      <td>NaN</td>\n",
       "      <td>NaN</td>\n",
       "      <td>NaN</td>\n",
       "    </tr>\n",
       "  </tbody>\n",
       "</table>\n",
       "<p>140 rows × 7 columns</p>\n",
       "</div>"
      ],
      "text/plain": [
       "              Unnamed: 0 COVID-19 Data of INDIA         Unnamed: 2  \\\n",
       "0                    NaN                    NaN                NaN   \n",
       "1                   date   total_infected_cases  total_death_cases   \n",
       "2              14/4/2020                  10363                339   \n",
       "3              15/4/2020                  10439                377   \n",
       "4              16/4/2020                  12380                414   \n",
       "..                   ...                    ...                ...   \n",
       "135  2020-08-25 00:00:00                3167323              58390   \n",
       "136  2020-08-26 00:00:00                3234474              59449   \n",
       "137  2020-08-27 00:00:00                3310234              60472   \n",
       "138  2020-08-28 00:00:00                3387500              61529   \n",
       "139  2020-08-29 00:00:00                    NaN                NaN   \n",
       "\n",
       "               Unnamed: 3          Unnamed: 4            Unnamed: 5  \\\n",
       "0                     NaN                 NaN                   NaN   \n",
       "1    total_recoverd_cases  total_active_cases  infected_cases_24hrs   \n",
       "2                    1036                8988                   415   \n",
       "3                    1305                9756                   624   \n",
       "4                    1488               10477                  1320   \n",
       "..                    ...                 ...                   ...   \n",
       "135               2404585              704348                 60975   \n",
       "136               2467758              707267                 67151   \n",
       "137               2523771              725991                 75760   \n",
       "138               2583948              742023                 77266   \n",
       "139                   NaN                 NaN                   NaN   \n",
       "\n",
       "              Unnamed: 6  \n",
       "0                    NaN  \n",
       "1    death_current_24hrs  \n",
       "2                     31  \n",
       "3                     38  \n",
       "4                     37  \n",
       "..                   ...  \n",
       "135                  848  \n",
       "136                 1059  \n",
       "137                 1023  \n",
       "138                 1057  \n",
       "139                  NaN  \n",
       "\n",
       "[140 rows x 7 columns]"
      ]
     },
     "execution_count": 28,
     "metadata": {},
     "output_type": "execute_result"
    }
   ],
   "source": [
    "df=pd.read_excel('covid_india.xls')\n",
    "df=df.head(140)\n",
    "df"
   ]
  },
  {
   "cell_type": "code",
   "execution_count": 29,
   "metadata": {},
   "outputs": [
    {
     "data": {
      "text/html": [
       "<div>\n",
       "<style scoped>\n",
       "    .dataframe tbody tr th:only-of-type {\n",
       "        vertical-align: middle;\n",
       "    }\n",
       "\n",
       "    .dataframe tbody tr th {\n",
       "        vertical-align: top;\n",
       "    }\n",
       "\n",
       "    .dataframe thead th {\n",
       "        text-align: right;\n",
       "    }\n",
       "</style>\n",
       "<table border=\"1\" class=\"dataframe\">\n",
       "  <thead>\n",
       "    <tr style=\"text-align: right;\">\n",
       "      <th></th>\n",
       "      <th>date</th>\n",
       "      <th>total_infected_cases</th>\n",
       "      <th>total_death_cases</th>\n",
       "      <th>total_recovered_cases</th>\n",
       "      <th>total_active_cases</th>\n",
       "      <th>infected_cases_24hrs</th>\n",
       "      <th>death_current_24hrs</th>\n",
       "    </tr>\n",
       "  </thead>\n",
       "  <tbody>\n",
       "    <tr>\n",
       "      <th>0</th>\n",
       "      <td>NaN</td>\n",
       "      <td>NaN</td>\n",
       "      <td>NaN</td>\n",
       "      <td>NaN</td>\n",
       "      <td>NaN</td>\n",
       "      <td>NaN</td>\n",
       "      <td>NaN</td>\n",
       "    </tr>\n",
       "    <tr>\n",
       "      <th>1</th>\n",
       "      <td>date</td>\n",
       "      <td>total_infected_cases</td>\n",
       "      <td>total_death_cases</td>\n",
       "      <td>total_recoverd_cases</td>\n",
       "      <td>total_active_cases</td>\n",
       "      <td>infected_cases_24hrs</td>\n",
       "      <td>death_current_24hrs</td>\n",
       "    </tr>\n",
       "    <tr>\n",
       "      <th>2</th>\n",
       "      <td>14/4/2020</td>\n",
       "      <td>10363</td>\n",
       "      <td>339</td>\n",
       "      <td>1036</td>\n",
       "      <td>8988</td>\n",
       "      <td>415</td>\n",
       "      <td>31</td>\n",
       "    </tr>\n",
       "    <tr>\n",
       "      <th>3</th>\n",
       "      <td>15/4/2020</td>\n",
       "      <td>10439</td>\n",
       "      <td>377</td>\n",
       "      <td>1305</td>\n",
       "      <td>9756</td>\n",
       "      <td>624</td>\n",
       "      <td>38</td>\n",
       "    </tr>\n",
       "    <tr>\n",
       "      <th>4</th>\n",
       "      <td>16/4/2020</td>\n",
       "      <td>12380</td>\n",
       "      <td>414</td>\n",
       "      <td>1488</td>\n",
       "      <td>10477</td>\n",
       "      <td>1320</td>\n",
       "      <td>37</td>\n",
       "    </tr>\n",
       "    <tr>\n",
       "      <th>...</th>\n",
       "      <td>...</td>\n",
       "      <td>...</td>\n",
       "      <td>...</td>\n",
       "      <td>...</td>\n",
       "      <td>...</td>\n",
       "      <td>...</td>\n",
       "      <td>...</td>\n",
       "    </tr>\n",
       "    <tr>\n",
       "      <th>135</th>\n",
       "      <td>2020-08-25 00:00:00</td>\n",
       "      <td>3167323</td>\n",
       "      <td>58390</td>\n",
       "      <td>2404585</td>\n",
       "      <td>704348</td>\n",
       "      <td>60975</td>\n",
       "      <td>848</td>\n",
       "    </tr>\n",
       "    <tr>\n",
       "      <th>136</th>\n",
       "      <td>2020-08-26 00:00:00</td>\n",
       "      <td>3234474</td>\n",
       "      <td>59449</td>\n",
       "      <td>2467758</td>\n",
       "      <td>707267</td>\n",
       "      <td>67151</td>\n",
       "      <td>1059</td>\n",
       "    </tr>\n",
       "    <tr>\n",
       "      <th>137</th>\n",
       "      <td>2020-08-27 00:00:00</td>\n",
       "      <td>3310234</td>\n",
       "      <td>60472</td>\n",
       "      <td>2523771</td>\n",
       "      <td>725991</td>\n",
       "      <td>75760</td>\n",
       "      <td>1023</td>\n",
       "    </tr>\n",
       "    <tr>\n",
       "      <th>138</th>\n",
       "      <td>2020-08-28 00:00:00</td>\n",
       "      <td>3387500</td>\n",
       "      <td>61529</td>\n",
       "      <td>2583948</td>\n",
       "      <td>742023</td>\n",
       "      <td>77266</td>\n",
       "      <td>1057</td>\n",
       "    </tr>\n",
       "    <tr>\n",
       "      <th>139</th>\n",
       "      <td>2020-08-29 00:00:00</td>\n",
       "      <td>NaN</td>\n",
       "      <td>NaN</td>\n",
       "      <td>NaN</td>\n",
       "      <td>NaN</td>\n",
       "      <td>NaN</td>\n",
       "      <td>NaN</td>\n",
       "    </tr>\n",
       "  </tbody>\n",
       "</table>\n",
       "<p>140 rows × 7 columns</p>\n",
       "</div>"
      ],
      "text/plain": [
       "                    date  total_infected_cases  total_death_cases  \\\n",
       "0                    NaN                   NaN                NaN   \n",
       "1                   date  total_infected_cases  total_death_cases   \n",
       "2              14/4/2020                 10363                339   \n",
       "3              15/4/2020                 10439                377   \n",
       "4              16/4/2020                 12380                414   \n",
       "..                   ...                   ...                ...   \n",
       "135  2020-08-25 00:00:00               3167323              58390   \n",
       "136  2020-08-26 00:00:00               3234474              59449   \n",
       "137  2020-08-27 00:00:00               3310234              60472   \n",
       "138  2020-08-28 00:00:00               3387500              61529   \n",
       "139  2020-08-29 00:00:00                   NaN                NaN   \n",
       "\n",
       "    total_recovered_cases  total_active_cases  infected_cases_24hrs  \\\n",
       "0                     NaN                 NaN                   NaN   \n",
       "1    total_recoverd_cases  total_active_cases  infected_cases_24hrs   \n",
       "2                    1036                8988                   415   \n",
       "3                    1305                9756                   624   \n",
       "4                    1488               10477                  1320   \n",
       "..                    ...                 ...                   ...   \n",
       "135               2404585              704348                 60975   \n",
       "136               2467758              707267                 67151   \n",
       "137               2523771              725991                 75760   \n",
       "138               2583948              742023                 77266   \n",
       "139                   NaN                 NaN                   NaN   \n",
       "\n",
       "     death_current_24hrs  \n",
       "0                    NaN  \n",
       "1    death_current_24hrs  \n",
       "2                     31  \n",
       "3                     38  \n",
       "4                     37  \n",
       "..                   ...  \n",
       "135                  848  \n",
       "136                 1059  \n",
       "137                 1023  \n",
       "138                 1057  \n",
       "139                  NaN  \n",
       "\n",
       "[140 rows x 7 columns]"
      ]
     },
     "execution_count": 29,
     "metadata": {},
     "output_type": "execute_result"
    }
   ],
   "source": [
    "\n",
    "df.columns=['date','total_infected_cases','total_death_cases','total_recovered_cases','total_active_cases','infected_cases_24hrs','death_current_24hrs']\n",
    "df"
   ]
  },
  {
   "cell_type": "code",
   "execution_count": 30,
   "metadata": {},
   "outputs": [
    {
     "data": {
      "text/html": [
       "<div>\n",
       "<style scoped>\n",
       "    .dataframe tbody tr th:only-of-type {\n",
       "        vertical-align: middle;\n",
       "    }\n",
       "\n",
       "    .dataframe tbody tr th {\n",
       "        vertical-align: top;\n",
       "    }\n",
       "\n",
       "    .dataframe thead th {\n",
       "        text-align: right;\n",
       "    }\n",
       "</style>\n",
       "<table border=\"1\" class=\"dataframe\">\n",
       "  <thead>\n",
       "    <tr style=\"text-align: right;\">\n",
       "      <th></th>\n",
       "      <th>date</th>\n",
       "      <th>total_infected_cases</th>\n",
       "      <th>total_death_cases</th>\n",
       "      <th>total_recovered_cases</th>\n",
       "      <th>total_active_cases</th>\n",
       "      <th>infected_cases_24hrs</th>\n",
       "      <th>death_current_24hrs</th>\n",
       "    </tr>\n",
       "  </thead>\n",
       "  <tbody>\n",
       "    <tr>\n",
       "      <th>1</th>\n",
       "      <td>date</td>\n",
       "      <td>total_infected_cases</td>\n",
       "      <td>total_death_cases</td>\n",
       "      <td>total_recoverd_cases</td>\n",
       "      <td>total_active_cases</td>\n",
       "      <td>infected_cases_24hrs</td>\n",
       "      <td>death_current_24hrs</td>\n",
       "    </tr>\n",
       "    <tr>\n",
       "      <th>2</th>\n",
       "      <td>14/4/2020</td>\n",
       "      <td>10363</td>\n",
       "      <td>339</td>\n",
       "      <td>1036</td>\n",
       "      <td>8988</td>\n",
       "      <td>415</td>\n",
       "      <td>31</td>\n",
       "    </tr>\n",
       "    <tr>\n",
       "      <th>3</th>\n",
       "      <td>15/4/2020</td>\n",
       "      <td>10439</td>\n",
       "      <td>377</td>\n",
       "      <td>1305</td>\n",
       "      <td>9756</td>\n",
       "      <td>624</td>\n",
       "      <td>38</td>\n",
       "    </tr>\n",
       "    <tr>\n",
       "      <th>4</th>\n",
       "      <td>16/4/2020</td>\n",
       "      <td>12380</td>\n",
       "      <td>414</td>\n",
       "      <td>1488</td>\n",
       "      <td>10477</td>\n",
       "      <td>1320</td>\n",
       "      <td>37</td>\n",
       "    </tr>\n",
       "    <tr>\n",
       "      <th>5</th>\n",
       "      <td>17/4/2020</td>\n",
       "      <td>13387</td>\n",
       "      <td>437</td>\n",
       "      <td>1749</td>\n",
       "      <td>1120</td>\n",
       "      <td>1455</td>\n",
       "      <td>23</td>\n",
       "    </tr>\n",
       "    <tr>\n",
       "      <th>...</th>\n",
       "      <td>...</td>\n",
       "      <td>...</td>\n",
       "      <td>...</td>\n",
       "      <td>...</td>\n",
       "      <td>...</td>\n",
       "      <td>...</td>\n",
       "      <td>...</td>\n",
       "    </tr>\n",
       "    <tr>\n",
       "      <th>135</th>\n",
       "      <td>2020-08-25 00:00:00</td>\n",
       "      <td>3167323</td>\n",
       "      <td>58390</td>\n",
       "      <td>2404585</td>\n",
       "      <td>704348</td>\n",
       "      <td>60975</td>\n",
       "      <td>848</td>\n",
       "    </tr>\n",
       "    <tr>\n",
       "      <th>136</th>\n",
       "      <td>2020-08-26 00:00:00</td>\n",
       "      <td>3234474</td>\n",
       "      <td>59449</td>\n",
       "      <td>2467758</td>\n",
       "      <td>707267</td>\n",
       "      <td>67151</td>\n",
       "      <td>1059</td>\n",
       "    </tr>\n",
       "    <tr>\n",
       "      <th>137</th>\n",
       "      <td>2020-08-27 00:00:00</td>\n",
       "      <td>3310234</td>\n",
       "      <td>60472</td>\n",
       "      <td>2523771</td>\n",
       "      <td>725991</td>\n",
       "      <td>75760</td>\n",
       "      <td>1023</td>\n",
       "    </tr>\n",
       "    <tr>\n",
       "      <th>138</th>\n",
       "      <td>2020-08-28 00:00:00</td>\n",
       "      <td>3387500</td>\n",
       "      <td>61529</td>\n",
       "      <td>2583948</td>\n",
       "      <td>742023</td>\n",
       "      <td>77266</td>\n",
       "      <td>1057</td>\n",
       "    </tr>\n",
       "    <tr>\n",
       "      <th>139</th>\n",
       "      <td>2020-08-29 00:00:00</td>\n",
       "      <td>NaN</td>\n",
       "      <td>NaN</td>\n",
       "      <td>NaN</td>\n",
       "      <td>NaN</td>\n",
       "      <td>NaN</td>\n",
       "      <td>NaN</td>\n",
       "    </tr>\n",
       "  </tbody>\n",
       "</table>\n",
       "<p>139 rows × 7 columns</p>\n",
       "</div>"
      ],
      "text/plain": [
       "                    date  total_infected_cases  total_death_cases  \\\n",
       "1                   date  total_infected_cases  total_death_cases   \n",
       "2              14/4/2020                 10363                339   \n",
       "3              15/4/2020                 10439                377   \n",
       "4              16/4/2020                 12380                414   \n",
       "5              17/4/2020                 13387                437   \n",
       "..                   ...                   ...                ...   \n",
       "135  2020-08-25 00:00:00               3167323              58390   \n",
       "136  2020-08-26 00:00:00               3234474              59449   \n",
       "137  2020-08-27 00:00:00               3310234              60472   \n",
       "138  2020-08-28 00:00:00               3387500              61529   \n",
       "139  2020-08-29 00:00:00                   NaN                NaN   \n",
       "\n",
       "    total_recovered_cases  total_active_cases  infected_cases_24hrs  \\\n",
       "1    total_recoverd_cases  total_active_cases  infected_cases_24hrs   \n",
       "2                    1036                8988                   415   \n",
       "3                    1305                9756                   624   \n",
       "4                    1488               10477                  1320   \n",
       "5                    1749                1120                  1455   \n",
       "..                    ...                 ...                   ...   \n",
       "135               2404585              704348                 60975   \n",
       "136               2467758              707267                 67151   \n",
       "137               2523771              725991                 75760   \n",
       "138               2583948              742023                 77266   \n",
       "139                   NaN                 NaN                   NaN   \n",
       "\n",
       "     death_current_24hrs  \n",
       "1    death_current_24hrs  \n",
       "2                     31  \n",
       "3                     38  \n",
       "4                     37  \n",
       "5                     23  \n",
       "..                   ...  \n",
       "135                  848  \n",
       "136                 1059  \n",
       "137                 1023  \n",
       "138                 1057  \n",
       "139                  NaN  \n",
       "\n",
       "[139 rows x 7 columns]"
      ]
     },
     "execution_count": 30,
     "metadata": {},
     "output_type": "execute_result"
    }
   ],
   "source": [
    "df=df.drop(df.index[0])\n",
    "df"
   ]
  },
  {
   "cell_type": "code",
   "execution_count": 31,
   "metadata": {},
   "outputs": [
    {
     "data": {
      "text/plain": [
       "pandas.core.series.Series"
      ]
     },
     "execution_count": 31,
     "metadata": {},
     "output_type": "execute_result"
    }
   ],
   "source": [
    "type(df['date'])"
   ]
  },
  {
   "cell_type": "code",
   "execution_count": 32,
   "metadata": {},
   "outputs": [
    {
     "data": {
      "text/plain": [
       "str"
      ]
     },
     "execution_count": 32,
     "metadata": {},
     "output_type": "execute_result"
    }
   ],
   "source": [
    "type(df['date'].iloc[0])"
   ]
  },
  {
   "cell_type": "code",
   "execution_count": null,
   "metadata": {},
   "outputs": [],
   "source": []
  },
  {
   "cell_type": "code",
   "execution_count": 19,
   "metadata": {},
   "outputs": [
    {
     "data": {
      "text/plain": [
       "1                    date\n",
       "2               14/4/2020\n",
       "3               15/4/2020\n",
       "4               16/4/2020\n",
       "5               17/4/2020\n",
       "6               18/4/2020\n",
       "7               19/4/2020\n",
       "8               20/4/2020\n",
       "9               21/4/2020\n",
       "10              22/4/2020\n",
       "11              23/4/2020\n",
       "12              24/4/2020\n",
       "13              25/4/2020\n",
       "14              26/4/2020\n",
       "15              27/4/2020\n",
       "16              28/4/2020\n",
       "17              29/4/2020\n",
       "18              30/4/2020\n",
       "19    2020-05-01 00:00:00\n",
       "20    2020-05-02 00:00:00\n",
       "21    2020-05-03 00:00:00\n",
       "22    2020-05-04 00:00:00\n",
       "23    2020-05-05 00:00:00\n",
       "24    2020-05-06 00:00:00\n",
       "25    2020-05-07 00:00:00\n",
       "26    2020-05-08 00:00:00\n",
       "27    2020-05-09 00:00:00\n",
       "28    2020-05-10 00:00:00\n",
       "29    2020-05-11 00:00:00\n",
       "30    2020-05-12 00:00:00\n",
       "31    2020-05-13 00:00:00\n",
       "32    2020-05-14 00:00:00\n",
       "33    2020-05-15 00:00:00\n",
       "34    2020-05-16 00:00:00\n",
       "35    2020-05-17 00:00:00\n",
       "36    2020-05-18 00:00:00\n",
       "37    2020-05-19 00:00:00\n",
       "38    2020-05-20 00:00:00\n",
       "39    2020-05-21 00:00:00\n",
       "40    2020-05-22 00:00:00\n",
       "41    2020-05-23 00:00:00\n",
       "42    2020-05-24 00:00:00\n",
       "43    2020-05-25 00:00:00\n",
       "44    2020-05-26 00:00:00\n",
       "45    2020-05-27 00:00:00\n",
       "46    2020-05-28 00:00:00\n",
       "47    2020-05-29 00:00:00\n",
       "48    2020-05-30 00:00:00\n",
       "49    2020-05-31 00:00:00\n",
       "50    2020-06-01 00:00:00\n",
       "Name: date, dtype: object"
      ]
     },
     "execution_count": 19,
     "metadata": {},
     "output_type": "execute_result"
    }
   ],
   "source": [
    "df['date'].head(50)"
   ]
  },
  {
   "cell_type": "code",
   "execution_count": 33,
   "metadata": {},
   "outputs": [
    {
     "data": {
      "text/plain": [
       "datetime.datetime(2020, 5, 2, 0, 0)"
      ]
     },
     "execution_count": 33,
     "metadata": {},
     "output_type": "execute_result"
    }
   ],
   "source": [
    "df['date'].iloc[19]"
   ]
  },
  {
   "cell_type": "code",
   "execution_count": 37,
   "metadata": {},
   "outputs": [
    {
     "data": {
      "text/html": [
       "<div>\n",
       "<style scoped>\n",
       "    .dataframe tbody tr th:only-of-type {\n",
       "        vertical-align: middle;\n",
       "    }\n",
       "\n",
       "    .dataframe tbody tr th {\n",
       "        vertical-align: top;\n",
       "    }\n",
       "\n",
       "    .dataframe thead th {\n",
       "        text-align: right;\n",
       "    }\n",
       "</style>\n",
       "<table border=\"1\" class=\"dataframe\">\n",
       "  <thead>\n",
       "    <tr style=\"text-align: right;\">\n",
       "      <th></th>\n",
       "      <th>date</th>\n",
       "      <th>total_infected_cases</th>\n",
       "      <th>total_death_cases</th>\n",
       "      <th>total_recovered_cases</th>\n",
       "      <th>total_active_cases</th>\n",
       "      <th>infected_cases_24hrs</th>\n",
       "      <th>death_current_24hrs</th>\n",
       "    </tr>\n",
       "  </thead>\n",
       "  <tbody>\n",
       "    <tr>\n",
       "      <th>5</th>\n",
       "      <td>17/4/2020</td>\n",
       "      <td>13387</td>\n",
       "      <td>437</td>\n",
       "      <td>1749</td>\n",
       "      <td>1120</td>\n",
       "      <td>1455</td>\n",
       "      <td>23</td>\n",
       "    </tr>\n",
       "    <tr>\n",
       "      <th>6</th>\n",
       "      <td>18/4/2020</td>\n",
       "      <td>14378</td>\n",
       "      <td>480</td>\n",
       "      <td>1992</td>\n",
       "      <td>11906</td>\n",
       "      <td>957</td>\n",
       "      <td>43</td>\n",
       "    </tr>\n",
       "    <tr>\n",
       "      <th>7</th>\n",
       "      <td>19/4/2020</td>\n",
       "      <td>15722</td>\n",
       "      <td>519</td>\n",
       "      <td>2463</td>\n",
       "      <td>12738</td>\n",
       "      <td>1334</td>\n",
       "      <td>41</td>\n",
       "    </tr>\n",
       "    <tr>\n",
       "      <th>8</th>\n",
       "      <td>20/4/2020</td>\n",
       "      <td>17656</td>\n",
       "      <td>559</td>\n",
       "      <td>2302</td>\n",
       "      <td>13295</td>\n",
       "      <td>1540</td>\n",
       "      <td>40</td>\n",
       "    </tr>\n",
       "    <tr>\n",
       "      <th>9</th>\n",
       "      <td>21/4/2020</td>\n",
       "      <td>18601</td>\n",
       "      <td>590</td>\n",
       "      <td>3252</td>\n",
       "      <td>14759</td>\n",
       "      <td>1336</td>\n",
       "      <td>47</td>\n",
       "    </tr>\n",
       "    <tr>\n",
       "      <th>...</th>\n",
       "      <td>...</td>\n",
       "      <td>...</td>\n",
       "      <td>...</td>\n",
       "      <td>...</td>\n",
       "      <td>...</td>\n",
       "      <td>...</td>\n",
       "      <td>...</td>\n",
       "    </tr>\n",
       "    <tr>\n",
       "      <th>135</th>\n",
       "      <td>2020-08-25 00:00:00</td>\n",
       "      <td>3167323</td>\n",
       "      <td>58390</td>\n",
       "      <td>2404585</td>\n",
       "      <td>704348</td>\n",
       "      <td>60975</td>\n",
       "      <td>848</td>\n",
       "    </tr>\n",
       "    <tr>\n",
       "      <th>136</th>\n",
       "      <td>2020-08-26 00:00:00</td>\n",
       "      <td>3234474</td>\n",
       "      <td>59449</td>\n",
       "      <td>2467758</td>\n",
       "      <td>707267</td>\n",
       "      <td>67151</td>\n",
       "      <td>1059</td>\n",
       "    </tr>\n",
       "    <tr>\n",
       "      <th>137</th>\n",
       "      <td>2020-08-27 00:00:00</td>\n",
       "      <td>3310234</td>\n",
       "      <td>60472</td>\n",
       "      <td>2523771</td>\n",
       "      <td>725991</td>\n",
       "      <td>75760</td>\n",
       "      <td>1023</td>\n",
       "    </tr>\n",
       "    <tr>\n",
       "      <th>138</th>\n",
       "      <td>2020-08-28 00:00:00</td>\n",
       "      <td>3387500</td>\n",
       "      <td>61529</td>\n",
       "      <td>2583948</td>\n",
       "      <td>742023</td>\n",
       "      <td>77266</td>\n",
       "      <td>1057</td>\n",
       "    </tr>\n",
       "    <tr>\n",
       "      <th>139</th>\n",
       "      <td>2020-08-29 00:00:00</td>\n",
       "      <td>NaN</td>\n",
       "      <td>NaN</td>\n",
       "      <td>NaN</td>\n",
       "      <td>NaN</td>\n",
       "      <td>NaN</td>\n",
       "      <td>NaN</td>\n",
       "    </tr>\n",
       "  </tbody>\n",
       "</table>\n",
       "<p>135 rows × 7 columns</p>\n",
       "</div>"
      ],
      "text/plain": [
       "                    date total_infected_cases total_death_cases  \\\n",
       "5              17/4/2020                13387               437   \n",
       "6              18/4/2020                14378               480   \n",
       "7              19/4/2020                15722               519   \n",
       "8              20/4/2020                17656               559   \n",
       "9              21/4/2020                18601               590   \n",
       "..                   ...                  ...               ...   \n",
       "135  2020-08-25 00:00:00              3167323             58390   \n",
       "136  2020-08-26 00:00:00              3234474             59449   \n",
       "137  2020-08-27 00:00:00              3310234             60472   \n",
       "138  2020-08-28 00:00:00              3387500             61529   \n",
       "139  2020-08-29 00:00:00                  NaN               NaN   \n",
       "\n",
       "    total_recovered_cases total_active_cases infected_cases_24hrs  \\\n",
       "5                    1749               1120                 1455   \n",
       "6                    1992              11906                  957   \n",
       "7                    2463              12738                 1334   \n",
       "8                    2302              13295                 1540   \n",
       "9                    3252              14759                 1336   \n",
       "..                    ...                ...                  ...   \n",
       "135               2404585             704348                60975   \n",
       "136               2467758             707267                67151   \n",
       "137               2523771             725991                75760   \n",
       "138               2583948             742023                77266   \n",
       "139                   NaN                NaN                  NaN   \n",
       "\n",
       "    death_current_24hrs  \n",
       "5                    23  \n",
       "6                    43  \n",
       "7                    41  \n",
       "8                    40  \n",
       "9                    47  \n",
       "..                  ...  \n",
       "135                 848  \n",
       "136                1059  \n",
       "137                1023  \n",
       "138                1057  \n",
       "139                 NaN  \n",
       "\n",
       "[135 rows x 7 columns]"
      ]
     },
     "execution_count": 37,
     "metadata": {},
     "output_type": "execute_result"
    }
   ],
   "source": [
    "df=df.iloc[2:]\n",
    "df"
   ]
  },
  {
   "cell_type": "code",
   "execution_count": 38,
   "metadata": {},
   "outputs": [
    {
     "data": {
      "text/html": [
       "<div>\n",
       "<style scoped>\n",
       "    .dataframe tbody tr th:only-of-type {\n",
       "        vertical-align: middle;\n",
       "    }\n",
       "\n",
       "    .dataframe tbody tr th {\n",
       "        vertical-align: top;\n",
       "    }\n",
       "\n",
       "    .dataframe thead th {\n",
       "        text-align: right;\n",
       "    }\n",
       "</style>\n",
       "<table border=\"1\" class=\"dataframe\">\n",
       "  <thead>\n",
       "    <tr style=\"text-align: right;\">\n",
       "      <th></th>\n",
       "      <th>date</th>\n",
       "      <th>total_infected_cases</th>\n",
       "      <th>total_death_cases</th>\n",
       "      <th>total_recovered_cases</th>\n",
       "      <th>total_active_cases</th>\n",
       "      <th>infected_cases_24hrs</th>\n",
       "      <th>death_current_24hrs</th>\n",
       "    </tr>\n",
       "  </thead>\n",
       "  <tbody>\n",
       "    <tr>\n",
       "      <th>5</th>\n",
       "      <td>2020-04-17</td>\n",
       "      <td>13387</td>\n",
       "      <td>437</td>\n",
       "      <td>1749</td>\n",
       "      <td>1120</td>\n",
       "      <td>1455</td>\n",
       "      <td>23</td>\n",
       "    </tr>\n",
       "    <tr>\n",
       "      <th>6</th>\n",
       "      <td>2020-04-18</td>\n",
       "      <td>14378</td>\n",
       "      <td>480</td>\n",
       "      <td>1992</td>\n",
       "      <td>11906</td>\n",
       "      <td>957</td>\n",
       "      <td>43</td>\n",
       "    </tr>\n",
       "    <tr>\n",
       "      <th>7</th>\n",
       "      <td>2020-04-19</td>\n",
       "      <td>15722</td>\n",
       "      <td>519</td>\n",
       "      <td>2463</td>\n",
       "      <td>12738</td>\n",
       "      <td>1334</td>\n",
       "      <td>41</td>\n",
       "    </tr>\n",
       "    <tr>\n",
       "      <th>8</th>\n",
       "      <td>2020-04-20</td>\n",
       "      <td>17656</td>\n",
       "      <td>559</td>\n",
       "      <td>2302</td>\n",
       "      <td>13295</td>\n",
       "      <td>1540</td>\n",
       "      <td>40</td>\n",
       "    </tr>\n",
       "    <tr>\n",
       "      <th>9</th>\n",
       "      <td>2020-04-21</td>\n",
       "      <td>18601</td>\n",
       "      <td>590</td>\n",
       "      <td>3252</td>\n",
       "      <td>14759</td>\n",
       "      <td>1336</td>\n",
       "      <td>47</td>\n",
       "    </tr>\n",
       "    <tr>\n",
       "      <th>...</th>\n",
       "      <td>...</td>\n",
       "      <td>...</td>\n",
       "      <td>...</td>\n",
       "      <td>...</td>\n",
       "      <td>...</td>\n",
       "      <td>...</td>\n",
       "      <td>...</td>\n",
       "    </tr>\n",
       "    <tr>\n",
       "      <th>135</th>\n",
       "      <td>2020-08-25</td>\n",
       "      <td>3167323</td>\n",
       "      <td>58390</td>\n",
       "      <td>2404585</td>\n",
       "      <td>704348</td>\n",
       "      <td>60975</td>\n",
       "      <td>848</td>\n",
       "    </tr>\n",
       "    <tr>\n",
       "      <th>136</th>\n",
       "      <td>2020-08-26</td>\n",
       "      <td>3234474</td>\n",
       "      <td>59449</td>\n",
       "      <td>2467758</td>\n",
       "      <td>707267</td>\n",
       "      <td>67151</td>\n",
       "      <td>1059</td>\n",
       "    </tr>\n",
       "    <tr>\n",
       "      <th>137</th>\n",
       "      <td>2020-08-27</td>\n",
       "      <td>3310234</td>\n",
       "      <td>60472</td>\n",
       "      <td>2523771</td>\n",
       "      <td>725991</td>\n",
       "      <td>75760</td>\n",
       "      <td>1023</td>\n",
       "    </tr>\n",
       "    <tr>\n",
       "      <th>138</th>\n",
       "      <td>2020-08-28</td>\n",
       "      <td>3387500</td>\n",
       "      <td>61529</td>\n",
       "      <td>2583948</td>\n",
       "      <td>742023</td>\n",
       "      <td>77266</td>\n",
       "      <td>1057</td>\n",
       "    </tr>\n",
       "    <tr>\n",
       "      <th>139</th>\n",
       "      <td>2020-08-29</td>\n",
       "      <td>NaN</td>\n",
       "      <td>NaN</td>\n",
       "      <td>NaN</td>\n",
       "      <td>NaN</td>\n",
       "      <td>NaN</td>\n",
       "      <td>NaN</td>\n",
       "    </tr>\n",
       "  </tbody>\n",
       "</table>\n",
       "<p>135 rows × 7 columns</p>\n",
       "</div>"
      ],
      "text/plain": [
       "          date total_infected_cases total_death_cases total_recovered_cases  \\\n",
       "5   2020-04-17                13387               437                  1749   \n",
       "6   2020-04-18                14378               480                  1992   \n",
       "7   2020-04-19                15722               519                  2463   \n",
       "8   2020-04-20                17656               559                  2302   \n",
       "9   2020-04-21                18601               590                  3252   \n",
       "..         ...                  ...               ...                   ...   \n",
       "135 2020-08-25              3167323             58390               2404585   \n",
       "136 2020-08-26              3234474             59449               2467758   \n",
       "137 2020-08-27              3310234             60472               2523771   \n",
       "138 2020-08-28              3387500             61529               2583948   \n",
       "139 2020-08-29                  NaN               NaN                   NaN   \n",
       "\n",
       "    total_active_cases infected_cases_24hrs death_current_24hrs  \n",
       "5                 1120                 1455                  23  \n",
       "6                11906                  957                  43  \n",
       "7                12738                 1334                  41  \n",
       "8                13295                 1540                  40  \n",
       "9                14759                 1336                  47  \n",
       "..                 ...                  ...                 ...  \n",
       "135             704348                60975                 848  \n",
       "136             707267                67151                1059  \n",
       "137             725991                75760                1023  \n",
       "138             742023                77266                1057  \n",
       "139                NaN                  NaN                 NaN  \n",
       "\n",
       "[135 rows x 7 columns]"
      ]
     },
     "execution_count": 38,
     "metadata": {},
     "output_type": "execute_result"
    }
   ],
   "source": [
    "\n",
    "df['date']=pd.to_datetime(df['date'])\n",
    "df"
   ]
  },
  {
   "cell_type": "code",
   "execution_count": 39,
   "metadata": {},
   "outputs": [
    {
     "data": {
      "text/plain": [
       "5      4\n",
       "6      4\n",
       "7      4\n",
       "8      4\n",
       "9      4\n",
       "      ..\n",
       "135    8\n",
       "136    8\n",
       "137    8\n",
       "138    8\n",
       "139    8\n",
       "Name: month, Length: 135, dtype: int64"
      ]
     },
     "execution_count": 39,
     "metadata": {},
     "output_type": "execute_result"
    }
   ],
   "source": [
    "\n",
    "df['month']=df['date'].apply(lambda x:x.month)\n",
    "df['month']"
   ]
  },
  {
   "cell_type": "code",
   "execution_count": 40,
   "metadata": {},
   "outputs": [
    {
     "data": {
      "text/plain": [
       "<matplotlib.axes._subplots.AxesSubplot at 0x19ee3ab8730>"
      ]
     },
     "execution_count": 40,
     "metadata": {},
     "output_type": "execute_result"
    },
    {
     "data": {
      "image/png": "[encoded data removed]",
      "text/plain": [
       "<Figure size 432x288 with 1 Axes>"
      ]
     },
     "metadata": {
      "needs_background": "light"
     },
     "output_type": "display_data"
    }
   ],
   "source": [
    "sns.countplot(x='month',data=df)"
   ]
  },
  {
   "cell_type": "code",
   "execution_count": 41,
   "metadata": {},
   "outputs": [
    {
     "data": {
      "image/png": "[encoded data removed]",
      "text/plain": [
       "<Figure size 432x288 with 1 Axes>"
      ]
     },
     "metadata": {
      "needs_background": "light"
     },
     "output_type": "display_data"
    }
   ],
   "source": [
    "x=df.groupby('month')['total_infected_cases'].sum()\n",
    "x.plot()\n",
    "plt.show() "
   ]
  },
  {
   "cell_type": "code",
   "execution_count": 42,
   "metadata": {},
   "outputs": [
    {
     "data": {
      "text/plain": [
       "month\n",
       "4      314433\n",
       "5     2939503\n",
       "6    10558374\n",
       "7    31726501\n",
       "8    70121070\n",
       "Name: total_infected_cases, dtype: int64"
      ]
     },
     "execution_count": 42,
     "metadata": {},
     "output_type": "execute_result"
    }
   ],
   "source": [
    "x"
   ]
  },
  {
   "cell_type": "code",
   "execution_count": 43,
   "metadata": {},
   "outputs": [
    {
     "data": {
      "image/png": "[encoded data removed]",
      "text/plain": [
       "<Figure size 432x288 with 1 Axes>"
      ]
     },
     "metadata": {
      "needs_background": "light"
     },
     "output_type": "display_data"
    }
   ],
   "source": [
    "x=df.groupby('month')['total_death_cases'].sum()\n",
    "x.plot()\n",
    "plt.show()"
   ]
  },
  {
   "cell_type": "code",
   "execution_count": 44,
   "metadata": {},
   "outputs": [
    {
     "data": {
      "image/png": "[encoded data removed]",
      "text/plain": [
       "<Figure size 432x288 with 1 Axes>"
      ]
     },
     "metadata": {
      "needs_background": "light"
     },
     "output_type": "display_data"
    }
   ],
   "source": [
    "x=df.groupby('month')['total_recovered_cases'].sum()\n",
    "x.plot()\n",
    "plt.show()"
   ]
  },
  {
   "cell_type": "code",
   "execution_count": 45,
   "metadata": {},
   "outputs": [
    {
     "data": {
      "image/png": "[encoded data removed]",
      "text/plain": [
       "<Figure size 432x288 with 1 Axes>"
      ]
     },
     "metadata": {
      "needs_background": "light"
     },
     "output_type": "display_data"
    }
   ],
   "source": [
    "x=df.groupby('month')['total_infected_cases'].sum()\n",
    "x.plot()\n",
    "plt.show()"
   ]
  },
  {
   "cell_type": "code",
   "execution_count": 92,
   "metadata": {},
   "outputs": [],
   "source": [
    "\n",
    "y=df['date']\n",
    "x=df[['total_infected_cases']]"
   ]
  },
  {
   "cell_type": "code",
   "execution_count": 93,
   "metadata": {},
   "outputs": [],
   "source": [
    "from sklearn.model_selection import train_test_split"
   ]
  },
  {
   "cell_type": "code",
   "execution_count": null,
   "metadata": {},
   "outputs": [],
   "source": []
  },
  {
   "cell_type": "code",
   "execution_count": null,
   "metadata": {},
   "outputs": [],
   "source": []
  },
  {
   "cell_type": "code",
   "execution_count": null,
   "metadata": {},
   "outputs": [],
   "source": []
  },
  {
   "cell_type": "code",
   "execution_count": 70,
   "metadata": {},
   "outputs": [],
   "source": [
    "df.dropna(inplace=True)"
   ]
  },
  {
   "cell_type": "code",
   "execution_count": 94,
   "metadata": {},
   "outputs": [
    {
     "data": {
      "text/plain": [
       "LinearRegression()"
      ]
     },
     "execution_count": 94,
     "metadata": {},
     "output_type": "execute_result"
    }
   ],
   "source": [
    "from sklearn.linear_model import LinearRegression\n",
    "lr=LinearRegression()\n",
    "lr.fit(x,y)"
   ]
  },
  {
   "cell_type": "code",
   "execution_count": 95,
   "metadata": {},
   "outputs": [
    {
     "name": "stdout",
     "output_type": "stream",
     "text": [
      "1.590096319517409e+18\n"
     ]
    }
   ],
   "source": [
    "print(lr.intercept_)"
   ]
  },
  {
   "cell_type": "code",
   "execution_count": 96,
   "metadata": {},
   "outputs": [
    {
     "name": "stdout",
     "output_type": "stream",
     "text": [
      "[3.16391459e+09]\n"
     ]
    }
   ],
   "source": [
    "print(lr.coef_)\n"
   ]
  },
  {
   "cell_type": "code",
   "execution_count": 97,
   "metadata": {},
   "outputs": [],
   "source": [
    "y=df['date']\n",
    "x=df[['total_infected_cases']]"
   ]
  },
  {
   "cell_type": "code",
   "execution_count": 98,
   "metadata": {},
   "outputs": [],
   "source": [
    "x_train,x_test,y_train,y_test=train_test_split(x,y,test_size=0.3,random_state=42)"
   ]
  },
  {
   "cell_type": "code",
   "execution_count": 99,
   "metadata": {},
   "outputs": [
    {
     "data": {
      "text/plain": [
       "LinearRegression()"
      ]
     },
     "execution_count": 99,
     "metadata": {},
     "output_type": "execute_result"
    }
   ],
   "source": [
    "from sklearn.linear_model import LinearRegression\n",
    "lr=LinearRegression()\n",
    "lr.fit(x_train,y_train)"
   ]
  },
  {
   "cell_type": "code",
   "execution_count": 100,
   "metadata": {},
   "outputs": [
    {
     "name": "stdout",
     "output_type": "stream",
     "text": [
      "1.5902644655821537e+18\n"
     ]
    }
   ],
   "source": [
    "print(lr.intercept_)"
   ]
  },
  {
   "cell_type": "code",
   "execution_count": 101,
   "metadata": {},
   "outputs": [
    {
     "name": "stdout",
     "output_type": "stream",
     "text": [
      "[3.06398942e+09]\n"
     ]
    }
   ],
   "source": [
    "print(lr.coef_)"
   ]
  },
  {
   "cell_type": "code",
   "execution_count": 102,
   "metadata": {},
   "outputs": [],
   "source": [
    "pred=lr.predict(x_test)"
   ]
  },
  {
   "cell_type": "code",
   "execution_count": 103,
   "metadata": {},
   "outputs": [],
   "source": [
    "from sklearn import metrics"
   ]
  },
  {
   "cell_type": "code",
   "execution_count": 104,
   "metadata": {},
   "outputs": [
    {
     "ename": "UFuncTypeError",
     "evalue": "ufunc 'subtract' cannot use operands with types dtype('<M8[ns]') and dtype('float64')",
     "output_type": "error",
     "traceback": [
      "\u001b[1;31m---------------------------------------------------------------------------\u001b[0m",
      "\u001b[1;31mUFuncTypeError\u001b[0m                            Traceback (most recent call last)",
      "\u001b[1;32m<ipython-input-104-84baac2cfabb>\u001b[0m in \u001b[0;36m<module>\u001b[1;34m\u001b[0m\n\u001b[1;32m----> 1\u001b[1;33m \u001b[0mprint\u001b[0m\u001b[1;33m(\u001b[0m\u001b[1;34m'RMSE:'\u001b[0m\u001b[1;33m,\u001b[0m\u001b[0mnp\u001b[0m\u001b[1;33m.\u001b[0m\u001b[0msqrt\u001b[0m\u001b[1;33m(\u001b[0m\u001b[0mmetrics\u001b[0m\u001b[1;33m.\u001b[0m\u001b[0mmean_squared_error\u001b[0m\u001b[1;33m(\u001b[0m\u001b[0my_test\u001b[0m\u001b[1;33m,\u001b[0m\u001b[0mpred\u001b[0m\u001b[1;33m)\u001b[0m\u001b[1;33m)\u001b[0m\u001b[1;33m)\u001b[0m\u001b[1;33m\u001b[0m\u001b[1;33m\u001b[0m\u001b[0m\n\u001b[0m",
      "\u001b[1;32m~\\anaconda3\\lib\\site-packages\\sklearn\\utils\\validation.py\u001b[0m in \u001b[0;36minner_f\u001b[1;34m(*args, **kwargs)\u001b[0m\n\u001b[0;32m     71\u001b[0m                           FutureWarning)\n\u001b[0;32m     72\u001b[0m         \u001b[0mkwargs\u001b[0m\u001b[1;33m.\u001b[0m\u001b[0mupdate\u001b[0m\u001b[1;33m(\u001b[0m\u001b[1;33m{\u001b[0m\u001b[0mk\u001b[0m\u001b[1;33m:\u001b[0m \u001b[0marg\u001b[0m \u001b[1;32mfor\u001b[0m \u001b[0mk\u001b[0m\u001b[1;33m,\u001b[0m \u001b[0marg\u001b[0m \u001b[1;32min\u001b[0m \u001b[0mzip\u001b[0m\u001b[1;33m(\u001b[0m\u001b[0msig\u001b[0m\u001b[1;33m.\u001b[0m\u001b[0mparameters\u001b[0m\u001b[1;33m,\u001b[0m \u001b[0margs\u001b[0m\u001b[1;33m)\u001b[0m\u001b[1;33m}\u001b[0m\u001b[1;33m)\u001b[0m\u001b[1;33m\u001b[0m\u001b[1;33m\u001b[0m\u001b[0m\n\u001b[1;32m---> 73\u001b[1;33m         \u001b[1;32mreturn\u001b[0m \u001b[0mf\u001b[0m\u001b[1;33m(\u001b[0m\u001b[1;33m**\u001b[0m\u001b[0mkwargs\u001b[0m\u001b[1;33m)\u001b[0m\u001b[1;33m\u001b[0m\u001b[1;33m\u001b[0m\u001b[0m\n\u001b[0m\u001b[0;32m     74\u001b[0m     \u001b[1;32mreturn\u001b[0m \u001b[0minner_f\u001b[0m\u001b[1;33m\u001b[0m\u001b[1;33m\u001b[0m\u001b[0m\n\u001b[0;32m     75\u001b[0m \u001b[1;33m\u001b[0m\u001b[0m\n",
      "\u001b[1;32m~\\anaconda3\\lib\\site-packages\\sklearn\\metrics\\_regression.py\u001b[0m in \u001b[0;36mmean_squared_error\u001b[1;34m(y_true, y_pred, sample_weight, multioutput, squared)\u001b[0m\n\u001b[0;32m    254\u001b[0m         y_true, y_pred, multioutput)\n\u001b[0;32m    255\u001b[0m     \u001b[0mcheck_consistent_length\u001b[0m\u001b[1;33m(\u001b[0m\u001b[0my_true\u001b[0m\u001b[1;33m,\u001b[0m \u001b[0my_pred\u001b[0m\u001b[1;33m,\u001b[0m \u001b[0msample_weight\u001b[0m\u001b[1;33m)\u001b[0m\u001b[1;33m\u001b[0m\u001b[1;33m\u001b[0m\u001b[0m\n\u001b[1;32m--> 256\u001b[1;33m     output_errors = np.average((y_true - y_pred) ** 2, axis=0,\n\u001b[0m\u001b[0;32m    257\u001b[0m                                weights=sample_weight)\n\u001b[0;32m    258\u001b[0m     \u001b[1;32mif\u001b[0m \u001b[0misinstance\u001b[0m\u001b[1;33m(\u001b[0m\u001b[0mmultioutput\u001b[0m\u001b[1;33m,\u001b[0m \u001b[0mstr\u001b[0m\u001b[1;33m)\u001b[0m\u001b[1;33m:\u001b[0m\u001b[1;33m\u001b[0m\u001b[1;33m\u001b[0m\u001b[0m\n",
      "\u001b[1;31mUFuncTypeError\u001b[0m: ufunc 'subtract' cannot use operands with types dtype('<M8[ns]') and dtype('float64')"
     ]
    }
   ],
   "source": [
    "print('RMSE:',np.sqrt(metrics.mean_squared_error(y_test,pred)))"
   ]
  },
  {
   "cell_type": "code",
   "execution_count": null,
   "metadata": {},
   "outputs": [],
   "source": []
  }
 ],
 "metadata": {
  "kernelspec": {
   "display_name": "Python 3",
   "language": "python",
   "name": "python3"
  },
  "language_info": {
   "codemirror_mode": {
    "name": "ipython",
    "version": 3
   },
   "file_extension": ".py",
   "mimetype": "text/x-python",
   "name": "python",
   "nbconvert_exporter": "python",
   "pygments_lexer": "ipython3",
   "version": "3.8.3"
  }
 },
 "nbformat": 4,
 "nbformat_minor": 4
}
